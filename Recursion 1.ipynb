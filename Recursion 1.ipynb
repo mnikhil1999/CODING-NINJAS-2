{
 "cells": [
  {
   "cell_type": "code",
   "execution_count": 4,
   "metadata": {},
   "outputs": [
    {
     "name": "stdout",
     "output_type": "stream",
     "text": [
      "5\n",
      "120\n"
     ]
    }
   ],
   "source": [
    "#factorial code\n",
    "#recursion can only be done using function\n",
    "\n",
    "def fact(n):\n",
    "    if n == 0:\n",
    "        return 1\n",
    "    return n * fact(n-1)\n",
    "n = int(input())\n",
    "print(fact(n))"
   ]
  },
  {
   "cell_type": "code",
   "execution_count": 3,
   "metadata": {},
   "outputs": [
    {
     "name": "stdout",
     "output_type": "stream",
     "text": [
      "5\n",
      "15\n"
     ]
    }
   ],
   "source": [
    "#sum of n numbers\n",
    "def sum_n(n):\n",
    "    if n == 0:\n",
    "        return 0\n",
    "    return n + sum_n(n-1)\n",
    "n = int(input())\n",
    "print(sum_n(n))"
   ]
  },
  {
   "cell_type": "code",
   "execution_count": 2,
   "metadata": {},
   "outputs": [
    {
     "name": "stdout",
     "output_type": "stream",
     "text": [
      "3 3\n",
      "27\n"
     ]
    }
   ],
   "source": [
    "#power of a number\n",
    "\n",
    "def power(x, n):\n",
    "    if n == 0:\n",
    "        return 1\n",
    "    return x*power(x, n-1)\n",
    "\n",
    "            \n",
    "x,n = [int(c) for c in input().split()]\n",
    "print(power(x, n))"
   ]
  },
  {
   "cell_type": "code",
   "execution_count": 5,
   "metadata": {},
   "outputs": [
    {
     "name": "stdout",
     "output_type": "stream",
     "text": [
      "5\n",
      "5\n",
      "4\n",
      "3\n",
      "2\n",
      "1\n"
     ]
    }
   ],
   "source": [
    "#print n to 1\n",
    "\n",
    "def n_to_1(n):\n",
    "    if n == 0:\n",
    "        return\n",
    "    print(n)\n",
    "    n_to_1(n-1)\n",
    "    return\n",
    "\n",
    "n = int(input())\n",
    "n_to_1(n)"
   ]
  },
  {
   "cell_type": "code",
   "execution_count": 2,
   "metadata": {},
   "outputs": [
    {
     "name": "stdout",
     "output_type": "stream",
     "text": [
      "5\n",
      "1\n",
      "2\n",
      "3\n",
      "4\n",
      "5\n"
     ]
    }
   ],
   "source": [
    "#print 1 to n\n",
    "\n",
    "def print1ton(n):\n",
    "    if n == 0:\n",
    "        return\n",
    "    print1ton(n - 1)\n",
    "    print(n)\n",
    "    return\n",
    "\n",
    "n = int(input())\n",
    "print1ton(n)"
   ]
  },
  {
   "cell_type": "code",
   "execution_count": 9,
   "metadata": {},
   "outputs": [
    {
     "name": "stdout",
     "output_type": "stream",
     "text": [
      "3\n",
      "2\n"
     ]
    }
   ],
   "source": [
    "#fibonacci number\n",
    "\n",
    "def fib(n):\n",
    "    if n == 1 or n == 2:\n",
    "        return 1\n",
    "    fib_n_1 = fib(n-1)\n",
    "    fib_n_2 = fib(n-2)\n",
    "    output = fib_n_1 + fib_n_2\n",
    "    return output\n",
    "n = int(input())\n",
    "print(fib(n))"
   ]
  },
  {
   "cell_type": "code",
   "execution_count": 10,
   "metadata": {},
   "outputs": [
    {
     "name": "stdout",
     "output_type": "stream",
     "text": [
      "16\n"
     ]
    }
   ],
   "source": [
    "def fun(n):\n",
    "    if (n==4):\n",
    "        return n\n",
    "    else:\n",
    "        return 2*fun(n+1)\n",
    "    \n",
    "print(fun(2))\n"
   ]
  },
  {
   "cell_type": "raw",
   "metadata": {},
   "source": [
    "#to set the limit of recursion\n",
    "\n",
    "import sys\n",
    "sys.setrecursionlimit(3000)\n"
   ]
  },
  {
   "cell_type": "code",
   "execution_count": 13,
   "metadata": {},
   "outputs": [
    {
     "name": "stdout",
     "output_type": "stream",
     "text": [
      "1 3 4 2 6\n",
      "[1, 3, 4, 2, 6]\n",
      "False\n"
     ]
    }
   ],
   "source": [
    "#given a list, need to check if it is sorted\n",
    "\n",
    "def isSorted(a):\n",
    "    l = len(a)\n",
    "    if l == 0 or l == 1:\n",
    "        return True\n",
    "    \n",
    "    if a[0] > a[1]:\n",
    "        return False\n",
    "    \n",
    "    smallerList = a[1:]\n",
    "    isSmallerListSorted = isSorted(smallerList)\n",
    "    \n",
    "    if isSmallerListSorted:\n",
    "        return True\n",
    "    else:\n",
    "        return False\n",
    "    \n",
    "a = [int(x) for x in input().split()]\n",
    "print(a)\n",
    "print(isSorted(a))\n"
   ]
  },
  {
   "cell_type": "code",
   "execution_count": 4,
   "metadata": {},
   "outputs": [
    {
     "name": "stdout",
     "output_type": "stream",
     "text": [
      "1 2 3 4 5 6\n",
      "0\n",
      "True\n"
     ]
    }
   ],
   "source": [
    "#second approach to check if the list is sorted or not\n",
    "# s = start index\n",
    "\n",
    "def isSortedBetter(a, s):\n",
    "    l = len(a)\n",
    "    \n",
    "    if s == l-1 or s == l:\n",
    "        return True\n",
    "    \n",
    "    if a[s] > a[s+1]:\n",
    "        return False\n",
    "    \n",
    "    isSmallerPartSorted = isSortedBetter(a, s+1)\n",
    "    return isSmallerPartSorted\n",
    "\n",
    "a = [int(x) for x in input().split()]\n",
    "print(isSortedBetter(a, 0))"
   ]
  },
  {
   "cell_type": "code",
   "execution_count": 5,
   "metadata": {},
   "outputs": [
    {
     "name": "stdout",
     "output_type": "stream",
     "text": [
      "4\n",
      "9 8 9 8\n",
      "34\n"
     ]
    }
   ],
   "source": [
    "#sum of array\n",
    "\n",
    "def sumArray(arr):\n",
    "    l = len(arr)\n",
    "    if l == 1:\n",
    "        return arr[0]\n",
    "    else:\n",
    "        return arr[0] + sumArray(arr[1:])\n",
    "    \n",
    "n = int(input())\n",
    "arr = [int(x) for x in input().split()]\n",
    "print(sumArray(arr))\n",
    "    \n",
    "    \n",
    "    "
   ]
  },
  {
   "cell_type": "code",
   "execution_count": 20,
   "metadata": {},
   "outputs": [
    {
     "name": "stdout",
     "output_type": "stream",
     "text": [
      "3\n",
      "3 4 7\n",
      "8\n",
      "false\n"
     ]
    }
   ],
   "source": [
    "#check number in array\n",
    "\n",
    "def checkNumber(arr, x):\n",
    "    l = len(arr)\n",
    "    if x == arr[0]:\n",
    "        return True\n",
    "    \n",
    "    if x!= arr[0] and (l == 1):\n",
    "        return False\n",
    "    \n",
    "    \n",
    "    smallOutput = checkNumber(arr[1:], x)\n",
    "    return smallOutput\n",
    "    \n",
    "    \n",
    "n = int(input())\n",
    "arr = [int(x) for x in input().split()]\n",
    "x = int(input())\n",
    "if checkNumber(arr, x):\n",
    "    print(\"true\")\n",
    "else:\n",
    "    print(\"false\")\n"
   ]
  },
  {
   "cell_type": "code",
   "execution_count": 1,
   "metadata": {},
   "outputs": [
    {
     "name": "stdout",
     "output_type": "stream",
     "text": [
      "2\n"
     ]
    }
   ],
   "source": [
    "#first index of number\n",
    "\n",
    "import sys\n",
    "def firstIndex(arr,x):\n",
    "    l = len(arr)\n",
    "    \n",
    "    if l == 0:\n",
    "        return -1\n",
    "    \n",
    "    if arr[0] == x:\n",
    "        return 0\n",
    "    smallerList = arr[1:]\n",
    "    smallerListOutput = firstIndex(smallerList, x)\n",
    "    \n",
    "    if smallerListOutput == -1:\n",
    "        return -1\n",
    "    else:\n",
    "        return smallerListOutput + 1\n",
    "    \n",
    "sys.setrecursionlimit(3000)\n",
    "arr = [1,2,7,4,5,6,7,8]\n",
    "print(firstIndex(arr,7))"
   ]
  },
  {
   "cell_type": "code",
   "execution_count": 7,
   "metadata": {},
   "outputs": [
    {
     "name": "stdout",
     "output_type": "stream",
     "text": [
      "6\n"
     ]
    }
   ],
   "source": [
    "#first index of number\n",
    "#second approach\n",
    "\n",
    "def firstIndexBetter(a, x, si):\n",
    "    l = len(a)\n",
    "    if si == l:\n",
    "        return -1\n",
    "    \n",
    "    if a[si] == x:\n",
    "        return si\n",
    "    \n",
    "    smallerListOutput = firstIndexBetter(a, x, si+1)\n",
    "    return smallerListOutput\n",
    "\n",
    "a = [1,2,3,4,5,6,7]\n",
    "print(firstIndexBetter(a, 7, 0))\n",
    "    \n",
    "    "
   ]
  },
  {
   "cell_type": "code",
   "execution_count": 9,
   "metadata": {},
   "outputs": [
    {
     "name": "stdout",
     "output_type": "stream",
     "text": [
      "3\n"
     ]
    }
   ],
   "source": [
    "#last index of number\n",
    "#first approach\n",
    "\n",
    "def lastIndex(a, x):\n",
    "    l = len(a)\n",
    "    if l == 0:\n",
    "        return -1\n",
    "    \n",
    "    smallerList = a[1:]\n",
    "    smallerListOutput = lastIndex(smallerList, x)\n",
    "    if smallerListOutput != -1:\n",
    "        return smallerListOutput + 1\n",
    "    \n",
    "    else:\n",
    "        if a[0] == x:\n",
    "            return 0\n",
    "        else:\n",
    "            return -1\n",
    "        \n",
    "a = [1,4,5,4,8]\n",
    "print(lastIndex(a,4))"
   ]
  },
  {
   "cell_type": "code",
   "execution_count": 11,
   "metadata": {},
   "outputs": [
    {
     "name": "stdout",
     "output_type": "stream",
     "text": [
      "3\n"
     ]
    }
   ],
   "source": [
    "#second approach\n",
    "\n",
    "def lastIndexBetter(a, x, si):\n",
    "    l = len(a)\n",
    "    if si == l:\n",
    "        return -1\n",
    "    \n",
    "    smallerListOutput = lastIndexBetter(a, x, si+1)\n",
    "    if smallerListOutput != -1:\n",
    "        return smallerListOutput\n",
    "    else:\n",
    "        if a[si] == x:\n",
    "            return si\n",
    "        else:\n",
    "            return -1\n",
    "        \n",
    "a = [1,4,5,4,8]\n",
    "print(lastIndexBetter(a,4, 0))"
   ]
  }
 ],
 "metadata": {
  "kernelspec": {
   "display_name": "Python 3",
   "language": "python",
   "name": "python3"
  },
  "language_info": {
   "codemirror_mode": {
    "name": "ipython",
    "version": 3
   },
   "file_extension": ".py",
   "mimetype": "text/x-python",
   "name": "python",
   "nbconvert_exporter": "python",
   "pygments_lexer": "ipython3",
   "version": "3.6.4"
  }
 },
 "nbformat": 4,
 "nbformat_minor": 2
}

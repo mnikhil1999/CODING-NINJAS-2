{
 "cells": [
  {
   "cell_type": "code",
   "execution_count": null,
   "metadata": {},
   "outputs": [],
   "source": [
    "#class = template\n",
    "#object = an instance of this class"
   ]
  },
  {
   "cell_type": "code",
   "execution_count": 1,
   "metadata": {},
   "outputs": [],
   "source": [
    "#classes and objects\n",
    "\n",
    "class student:\n",
    "    pass"
   ]
  },
  {
   "cell_type": "code",
   "execution_count": 4,
   "metadata": {},
   "outputs": [
    {
     "name": "stdout",
     "output_type": "stream",
     "text": [
      "<class '__main__.student'>\n",
      "<class 'list'>\n"
     ]
    }
   ],
   "source": [
    "s1 = student()\n",
    "print(type(s1))\n",
    "\n",
    "l = list()\n",
    "print(type(l))"
   ]
  },
  {
   "cell_type": "code",
   "execution_count": 5,
   "metadata": {},
   "outputs": [
    {
     "name": "stdout",
     "output_type": "stream",
     "text": [
      "<__main__.student object at 0x00000229BAA33208> <__main__.student object at 0x00000229BAA33128>\n"
     ]
    }
   ],
   "source": [
    "s2 = student()\n",
    "s3 = student()\n",
    "print(s2,s3)"
   ]
  },
  {
   "cell_type": "code",
   "execution_count": null,
   "metadata": {},
   "outputs": [],
   "source": [
    "#full stop is used to to access properties and methods of an object"
   ]
  },
  {
   "cell_type": "code",
   "execution_count": 6,
   "metadata": {},
   "outputs": [],
   "source": [
    "#attributes\n",
    "\n",
    "s1.name = \"nikhil\"\n",
    "s2.rollno = 2\n",
    "\n",
    "s3.name = \"kumar\"\n",
    "s3.rollno = 4"
   ]
  },
  {
   "cell_type": "code",
   "execution_count": 9,
   "metadata": {},
   "outputs": [
    {
     "data": {
      "text/plain": [
       "4"
      ]
     },
     "execution_count": 9,
     "metadata": {},
     "output_type": "execute_result"
    }
   ],
   "source": [
    "#checking the attributes\n",
    "s3.rollno"
   ]
  },
  {
   "cell_type": "code",
   "execution_count": 10,
   "metadata": {},
   "outputs": [
    {
     "data": {
      "text/plain": [
       "'nikhil'"
      ]
     },
     "execution_count": 10,
     "metadata": {},
     "output_type": "execute_result"
    }
   ],
   "source": [
    "s1.name"
   ]
  },
  {
   "cell_type": "code",
   "execution_count": 11,
   "metadata": {},
   "outputs": [
    {
     "data": {
      "text/plain": [
       "{'name': 'kumar', 'rollno': 4}"
      ]
     },
     "execution_count": 11,
     "metadata": {},
     "output_type": "execute_result"
    }
   ],
   "source": [
    "#checking all the attributes\n",
    "\n",
    "s3.__dict__"
   ]
  },
  {
   "cell_type": "code",
   "execution_count": 13,
   "metadata": {},
   "outputs": [
    {
     "data": {
      "text/plain": [
       "False"
      ]
     },
     "execution_count": 13,
     "metadata": {},
     "output_type": "execute_result"
    }
   ],
   "source": [
    "#check if object has particular attribute or not\n",
    "#will give error if attribute is not present\n",
    "\n",
    "hasattr(s1, \"rollno\")"
   ]
  },
  {
   "cell_type": "code",
   "execution_count": 15,
   "metadata": {},
   "outputs": [
    {
     "data": {
      "text/plain": [
       "''"
      ]
     },
     "execution_count": 15,
     "metadata": {},
     "output_type": "execute_result"
    }
   ],
   "source": [
    "#wont give error if attr is not present\n",
    "getattr(s2, \"name\", \"\")"
   ]
  },
  {
   "cell_type": "code",
   "execution_count": 16,
   "metadata": {},
   "outputs": [],
   "source": [
    "delattr(s3, \"name\")"
   ]
  },
  {
   "cell_type": "code",
   "execution_count": 17,
   "metadata": {},
   "outputs": [
    {
     "data": {
      "text/plain": [
       "{'name': 'nikhil'}"
      ]
     },
     "execution_count": 17,
     "metadata": {},
     "output_type": "execute_result"
    }
   ],
   "source": [
    "s1.__dict__"
   ]
  },
  {
   "cell_type": "code",
   "execution_count": 19,
   "metadata": {},
   "outputs": [
    {
     "name": "stdout",
     "output_type": "stream",
     "text": [
      "nik nik "
     ]
    }
   ],
   "source": [
    "#class attribute can be common but instance attribute cant\n",
    "\n",
    "\n",
    "class student():\n",
    "    name = \"nik\"\n",
    "    age = 21\n",
    "s1 = student()\n",
    "s2 = student()\n",
    "print(s1.name,end=\" \")\n",
    "print(s2.name,end=\" \")"
   ]
  },
  {
   "cell_type": "code",
   "execution_count": 20,
   "metadata": {},
   "outputs": [
    {
     "name": "stdout",
     "output_type": "stream",
     "text": [
      "58\n"
     ]
    }
   ],
   "source": [
    "class Student:\n",
    "    pp = 50\n",
    "\n",
    "s1 = Student()\n",
    "s1.pp= 58\n",
    "s2 = Student()\n",
    "s2.pp = 60\n",
    "print(s1.pp)"
   ]
  },
  {
   "cell_type": "code",
   "execution_count": 15,
   "metadata": {},
   "outputs": [
    {
     "name": "stdout",
     "output_type": "stream",
     "text": [
      "name = nikhil\n",
      "percentage = 80\n",
      "student is passed\n"
     ]
    }
   ],
   "source": [
    "#self parameter\n",
    "\n",
    "class student:\n",
    "    \n",
    "    passingpercentage = 40\n",
    "    \n",
    "    def studentdetails(self): #for object you need an instance attribute\n",
    "        self.name = \"nikhil\" #self.name means it is an instance attribute #it is there till s1 is there\n",
    "        print(\"name =\", self.name)\n",
    "        self.percentage = 80 #it is accessible inside only this function\n",
    "        print(\"percentage =\", self.percentage)\n",
    "        pass\n",
    "    \n",
    "    def ispassed(self):\n",
    "        if self.percentage > student.passingpercentage:\n",
    "            print(\"student is passed\")\n",
    "        else:\n",
    "            print(\"student is failed\")\n",
    "            \n",
    "    \n",
    "s1 = student() #object\n",
    "s1.studentdetails()\n",
    "#student.studentdetails(s1) #above and this line are same\n",
    "#class_name.function(object_name)\n",
    "s1.ispassed()\n",
    "        "
   ]
  },
  {
   "cell_type": "code",
   "execution_count": 23,
   "metadata": {},
   "outputs": [
    {
     "name": "stdout",
     "output_type": "stream",
     "text": [
      "name = nikhil\n",
      "percentage = 80\n",
      "student is passed\n",
      "welcome to school\n"
     ]
    }
   ],
   "source": [
    "#self parameter\n",
    "\n",
    "class student:\n",
    "    \n",
    "    passingpercentage = 40\n",
    "    \n",
    "    def studentdetails(self): #for object you need an instance attribute\n",
    "        self.name = \"nikhil\" #self.name means it is an instance attribute #it is there till s1 is there\n",
    "        print(\"name =\", self.name)\n",
    "        self.percentage = 80 #it is accessible inside only this function\n",
    "        print(\"percentage =\", self.percentage)\n",
    "        pass\n",
    "    \n",
    "    def ispassed(self):\n",
    "        if self.percentage > student.passingpercentage:\n",
    "            print(\"student is passed\")\n",
    "        else:\n",
    "            print(\"student is failed\")\n",
    "            \n",
    "#STATIC METHOD    \n",
    "   #static method is also called as class method\n",
    "    @staticmethod #using this, now it wont be taking the self on it own\n",
    "    def welcomeToSchool():\n",
    "        print(\"welcome to school\")\n",
    "            \n",
    "    \n",
    "s1 = student() #object\n",
    "s1.studentdetails()\n",
    "#student.studentdetails(s1) #above and this line are same\n",
    "#class_name.function(object_name)\n",
    "s1.ispassed()\n",
    "s1.welcomeToSchool()\n",
    "        "
   ]
  },
  {
   "cell_type": "code",
   "execution_count": 18,
   "metadata": {},
   "outputs": [
    {
     "ename": "SyntaxError",
     "evalue": "invalid character in identifier (<ipython-input-18-2d47f0dd4cd5>, line 3)",
     "output_type": "error",
     "traceback": [
      "\u001b[1;36m  File \u001b[1;32m\"<ipython-input-18-2d47f0dd4cd5>\"\u001b[1;36m, line \u001b[1;32m3\u001b[0m\n\u001b[1;33m    name = “nikhil”\u001b[0m\n\u001b[1;37m                  ^\u001b[0m\n\u001b[1;31mSyntaxError\u001b[0m\u001b[1;31m:\u001b[0m invalid character in identifier\n"
     ]
    }
   ],
   "source": [
    "#output\n",
    "class Student:\n",
    "    name = “nikhil”\n",
    "    def store_details(self):\n",
    "        self.age = 60\n",
    "    def print_details(self):\n",
    "        print(self.name, end=” ”)\n",
    "        print(self.age)\n",
    "s = Student()\n",
    "s.store_details()\n",
    "s.print_details()\n",
    "\n",
    "\n",
    "#answer = nikhil 60"
   ]
  },
  {
   "cell_type": "code",
   "execution_count": 21,
   "metadata": {},
   "outputs": [
    {
     "ename": "SyntaxError",
     "evalue": "invalid character in identifier (<ipython-input-21-bc6f5e1ecb49>, line 2)",
     "output_type": "error",
     "traceback": [
      "\u001b[1;36m  File \u001b[1;32m\"<ipython-input-21-bc6f5e1ecb49>\"\u001b[1;36m, line \u001b[1;32m2\u001b[0m\n\u001b[1;33m    name = “Parikh”\u001b[0m\n\u001b[1;37m                  ^\u001b[0m\n\u001b[1;31mSyntaxError\u001b[0m\u001b[1;31m:\u001b[0m invalid character in identifier\n"
     ]
    }
   ],
   "source": [
    "#output\n",
    "class Student:\n",
    "    name = “Parikh”\n",
    "    def store_details(self):\n",
    "        self.age = 60\n",
    "    def print_age(self):\n",
    "        print(self.age)\n",
    "s = Student()\n",
    "s.store_details()\n",
    "s1 = Student()\n",
    "s1.print_age()"
   ]
  },
  {
   "cell_type": "code",
   "execution_count": 29,
   "metadata": {},
   "outputs": [
    {
     "name": "stdout",
     "output_type": "stream",
     "text": [
      "{'name': 'nikhil', 'rollno': 21}\n",
      "{'name': 'kumar', 'rollno': 20}\n"
     ]
    }
   ],
   "source": [
    "#init method\n",
    "#we dont have create same thing for evry other object\n",
    "\n",
    "class student:\n",
    "    def __init__(self, name, rollno):\n",
    "        self.name = name\n",
    "        self.rollno = rollno\n",
    "s1 = student(\"nikhil\", 21)\n",
    "s2 = student(\"kumar\", 20)\n",
    "print(s1.__dict__)\n",
    "print(s2.__dict__)"
   ]
  },
  {
   "cell_type": "code",
   "execution_count": 32,
   "metadata": {},
   "outputs": [
    {
     "ename": "SyntaxError",
     "evalue": "invalid character in identifier (<ipython-input-32-8df01bf5cf21>, line 9)",
     "output_type": "error",
     "traceback": [
      "\u001b[1;36m  File \u001b[1;32m\"<ipython-input-32-8df01bf5cf21>\"\u001b[1;36m, line \u001b[1;32m9\u001b[0m\n\u001b[1;33m    print(self.name, end= “ “)\u001b[0m\n\u001b[1;37m                          ^\u001b[0m\n\u001b[1;31mSyntaxError\u001b[0m\u001b[1;31m:\u001b[0m invalid character in identifier\n"
     ]
    }
   ],
   "source": [
    "#output\n",
    "class Student:\n",
    "\n",
    "    def __init__(self,name,age):\n",
    "        self.name = name\n",
    "        self.rollno = rollno\n",
    "        \n",
    "\n",
    "    def print_student_details():\n",
    "        print(self.name, end= “ “)\n",
    "        print(self.age)\n",
    "\n",
    "\n",
    "s = Student(\"rohan\", 20)\n",
    "s.print_student_details()"
   ]
  },
  {
   "cell_type": "code",
   "execution_count": 41,
   "metadata": {},
   "outputs": [
    {
     "name": "stdout",
     "output_type": "stream",
     "text": [
      "Rohan 60\n"
     ]
    }
   ],
   "source": [
    "#output\n",
    "class Student:\n",
    "    def __init__(self,name,age):\n",
    "        self.name = name\n",
    "        self.age = age\n",
    "    def print_student_details(self):\n",
    "        print(self.name, end= \" \")\n",
    "        print(self.age)\n",
    "\n",
    "s = Student(\"Rohan\",60)\n",
    "s.print_student_details()"
   ]
  },
  {
   "cell_type": "code",
   "execution_count": null,
   "metadata": {},
   "outputs": [],
   "source": [
    "#class method\n",
    "\n",
    "from datetime import date\n",
    "class Student:\n",
    "\n",
    "\tpassingPercentage = 40\n",
    "\n",
    "\tdef __init__(self,name,age=15,percentage=80):\n",
    "\t\tself.name = name\n",
    "\t\tself.age = age\n",
    "\t\tself.percentage = percentage\n",
    "\n",
    "\t@classmethod\n",
    "\tdef fromBirthYear(cls,name,year,percentage):\n",
    "\t\treturn cls(name,date.today().year - year,percentage)\n",
    "\n",
    "\tdef studentDetails(self):\n",
    "\t\tprint(\"Name = \", self.name)\n",
    "\t\tprint(\"Age =\" , self.age)\n",
    "\t\tprint(\"Percentage = \", self.percentage)\n",
    "\t\t\n",
    "\n",
    "\tdef isPassed(self):\n",
    "\t\tif self.percentage > Student.passingPercentage:\n",
    "\t\t\tprint(\"Student is passed\")\n",
    "\t\telse:\n",
    "\t\t\tprint(\"Student is not passed\")\n",
    "\n",
    "\n",
    "\t@staticmethod\n",
    "\tdef welcomeToSchool():\n",
    "\t\tprint(\"Hey! Welcome To School\")\n",
    "\n",
    "\t@staticmethod\n",
    "\tdef isTeen(age):\n",
    "\t\treturn age>16\n",
    "\n",
    "s1 = Student(\"Parikh\")\n",
    "s1 = Student.fromBirthYear(\"Parikh\",1996,70)\n",
    "s1.studentDetails()\n",
    "# s1.isPassed()\n",
    "# s2 = Student(\"Varun\",26,90)\n",
    "# s1.studentDetails()\n",
    "# s2.studentDetails()\n",
    "# s1.studentDetails()\n",
    "# Student.studentDetails(s1)\n",
    "# s1.isPassed()\n",
    "# s1.welcomeToSchool()\n",
    "\n",
    "\n",
    "#class_name.function(object_name)"
   ]
  },
  {
   "cell_type": "code",
   "execution_count": 2,
   "metadata": {},
   "outputs": [
    {
     "name": "stdout",
     "output_type": "stream",
     "text": [
      "True\n"
     ]
    }
   ],
   "source": [
    "#output\n",
    "\n",
    "class Student:\n",
    "    def __init__(self,name,age):\n",
    "        self.name = name\n",
    "        self.age = age\n",
    "    def print_student_details():\n",
    "        print(self.name, end= \" \")\n",
    "        print(self.age)\n",
    "\n",
    "    @staticmethod\n",
    "    def isTeen(age):\n",
    "        return age>16\n",
    "\n",
    "a = Student.isTeen(18)\n",
    "print(a)"
   ]
  },
  {
   "cell_type": "code",
   "execution_count": null,
   "metadata": {},
   "outputs": [],
   "source": [
    "#public and private modifiers\n",
    "\n",
    "\n",
    "\n",
    "class Student:\n",
    "\n",
    "\t__passingPercentage = 40\n",
    "\n",
    "\tdef __init__(self,name,age=15,percentage=80):\n",
    "\t\tself.__name = name\n",
    "\t\tself.age = age\n",
    "\t\tself.percentage = percentage\n",
    "\n",
    "\tdef studentDetails(self):\n",
    "\t\tprint(\"Name = \", self.__name)\n",
    "\t\tprint(\"Age =\" , self.age)\n",
    "\t\tprint(\"Percentage = \", self.percentage)\n",
    "\t\t\n",
    "\n",
    "\tdef isPassed(self):\n",
    "\t\tif self.percentage > Student.passingPercentage:\n",
    "\t\t\tprint(\"Student is passed\")\n",
    "\t\telse:\n",
    "\t\t\tprint(\"Student is not passed\")\n",
    "\n",
    "\t@staticmethod\n",
    "\tdef welcomeToSchool():\n",
    "\t\tprint(\"Hey! Welcome To School\")\n",
    "\n",
    "s1 = Student(\"Parikh\")\n",
    "#print(s1.__name)\n",
    "#print(s1.age)\n",
    "s1.age = 20\n",
    "print(Student._Student__passingPercentage)\n",
    "s1.studentDetails()\n",
    "# s1.name = \"Ankush\"\n",
    "# s1.age = 20\n",
    "# print(s1.name)\n",
    "# print(s1.age)\n",
    "#s1.studentDetails()\n",
    "# s1.isPassed()\n",
    "# s2 = Student(\"Varun\",26,90)\n",
    "# s1.studentDetails()\n",
    "# s2.studentDetails()\n",
    "# s1.studentDetails()\n",
    "# Student.studentDetails(s1)\n",
    "# s1.isPassed()\n",
    "# s1.welcomeToSchool()\n",
    "\n",
    "\n",
    "#class_name.function(object_name)"
   ]
  },
  {
   "cell_type": "code",
   "execution_count": 5,
   "metadata": {},
   "outputs": [
    {
     "ename": "SyntaxError",
     "evalue": "invalid character in identifier (<ipython-input-5-ca75c7ea00b4>, line 9)",
     "output_type": "error",
     "traceback": [
      "\u001b[1;36m  File \u001b[1;32m\"<ipython-input-5-ca75c7ea00b4>\"\u001b[1;36m, line \u001b[1;32m9\u001b[0m\n\u001b[1;33m    s = Student(“Rohan”,20)\u001b[0m\n\u001b[1;37m                      ^\u001b[0m\n\u001b[1;31mSyntaxError\u001b[0m\u001b[1;31m:\u001b[0m invalid character in identifier\n"
     ]
    }
   ],
   "source": [
    "#output\n",
    "#private cant be accessed outside class\n",
    "\n",
    "class Student:\n",
    "     def __init__(self,name,age):\n",
    "        self.__name = name\n",
    "        self.age = age\n",
    "     def print_student_details():\n",
    "        print(self.__name, end= \" \")\n",
    "        print(self.age)\n",
    "\n",
    "s = Student(“Rohan”,20)\n",
    "print(s.name)"
   ]
  }
 ],
 "metadata": {
  "kernelspec": {
   "display_name": "Python 3",
   "language": "python",
   "name": "python3"
  },
  "language_info": {
   "codemirror_mode": {
    "name": "ipython",
    "version": 3
   },
   "file_extension": ".py",
   "mimetype": "text/x-python",
   "name": "python",
   "nbconvert_exporter": "python",
   "pygments_lexer": "ipython3",
   "version": "3.6.4"
  }
 },
 "nbformat": 4,
 "nbformat_minor": 2
}

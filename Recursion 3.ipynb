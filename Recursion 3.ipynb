{
 "cells": [
  {
   "cell_type": "code",
   "execution_count": 14,
   "metadata": {},
   "outputs": [
    {
     "name": "stdout",
     "output_type": "stream",
     "text": [
      "4\n",
      "1.93750\n"
     ]
    }
   ],
   "source": [
    "#GEOMETRIC SUM\n",
    "\n",
    "def sum1(n):\n",
    "    if n == 0:\n",
    "        return 1\n",
    "    \n",
    "    return (1/(2**n)) + sum1(n-1)\n",
    "n = int(input())    \n",
    "print(\"%.5f\"%sum1(n))  #(\"%.5f\"%) is used to give decimal values we need answer upto"
   ]
  },
  {
   "cell_type": "code",
   "execution_count": 51,
   "metadata": {},
   "outputs": [
    {
     "name": "stdout",
     "output_type": "stream",
     "text": [
      "abcd\n",
      "false\n"
     ]
    }
   ],
   "source": [
    "## Read input as specified in the question.\n",
    "## Print output as specified in the question.\n",
    "#PALINDROME NUMBER\n",
    "def palindrome_number(s):\n",
    "    l = len(s)\n",
    "    if (l == 0) or (l==1):\n",
    "        return True\n",
    "    \n",
    "    \n",
    "    #checking 1st and last \n",
    "    if s[0] != s[-1]:\n",
    "        return False\n",
    "    \n",
    "    \n",
    "    \n",
    "    #checking mid part\n",
    "    SL = s[1:-1]\n",
    "    return palindrome_number(s)\n",
    "    \n",
    "s = input()   \n",
    "if palindrome_number(s):\n",
    "    print(\"true\")\n",
    "else:\n",
    "    print(\"false\")"
   ]
  },
  {
   "cell_type": "code",
   "execution_count": null,
   "metadata": {},
   "outputs": [],
   "source": [
    "#palindrome number, second approach\n",
    "## Read input as specified in the question.\n",
    "## Print output as specified in the question.\n",
    "def rec(a):\n",
    "    n=len(a)-1\n",
    "    if n<0:\n",
    "        return a\n",
    "    b=rec(a[1:])\n",
    "    return b+a[0]\n",
    "c=input()\n",
    "b=rec(c)\n",
    "if b==c:\n",
    "    print(\"true\")\n",
    "else:\n",
    "    print(\"false\")"
   ]
  },
  {
   "cell_type": "code",
   "execution_count": 60,
   "metadata": {},
   "outputs": [
    {
     "name": "stdout",
     "output_type": "stream",
     "text": [
      "9\n",
      "9\n"
     ]
    }
   ],
   "source": [
    "#sum of digits\n",
    "def s_of_digits(n):\n",
    "    if n == 0:\n",
    "        return 0\n",
    "    \n",
    "    return (n%10) + s_of_digits(n//10)\n",
    "\n",
    "n = int(input())\n",
    "print(s_of_digits(n))"
   ]
  },
  {
   "cell_type": "code",
   "execution_count": 65,
   "metadata": {},
   "outputs": [
    {
     "name": "stdout",
     "output_type": "stream",
     "text": [
      "3\n",
      "2\n",
      "6\n"
     ]
    }
   ],
   "source": [
    "#multiplication opf two number\n",
    "def mul(m, n):\n",
    "    if m==0 or n==0:\n",
    "        return 0\n",
    "    \n",
    "    return (m*n)\n",
    "\n",
    "m = int(input())\n",
    "n = int(input())\n",
    "print(mul(m, n))"
   ]
  },
  {
   "cell_type": "code",
   "execution_count": 82,
   "metadata": {},
   "outputs": [
    {
     "name": "stdout",
     "output_type": "stream",
     "text": [
      "0023\n",
      "0\n"
     ]
    }
   ],
   "source": [
    "#count zeroes\n",
    "\n",
    "def countZeroes(n):\n",
    "    if n == 0:\n",
    "        return 1\n",
    "    \n",
    "    if (n%10 == 0):\n",
    "        return 1 + countZeroes(n/10)\n",
    "    elif (n/10==0):\n",
    "        return 0\n",
    "    else:\n",
    "        return countZeroes(n/10)\n",
    "    \n",
    "n = int(input())\n",
    "print(countZeroes(n))\n",
    "    \n",
    "    "
   ]
  },
  {
   "cell_type": "code",
   "execution_count": 88,
   "metadata": {},
   "outputs": [
    {
     "name": "stdout",
     "output_type": "stream",
     "text": [
      "12345\n",
      "12345\n"
     ]
    }
   ],
   "source": [
    "#string to integer\n",
    "n = input()\n",
    "\n",
    "print(int(n))"
   ]
  },
  {
   "cell_type": "code",
   "execution_count": null,
   "metadata": {},
   "outputs": [],
   "source": [
    "#pair star"
   ]
  }
 ],
 "metadata": {
  "kernelspec": {
   "display_name": "Python 3",
   "language": "python",
   "name": "python3"
  },
  "language_info": {
   "codemirror_mode": {
    "name": "ipython",
    "version": 3
   },
   "file_extension": ".py",
   "mimetype": "text/x-python",
   "name": "python",
   "nbconvert_exporter": "python",
   "pygments_lexer": "ipython3",
   "version": "3.6.4"
  }
 },
 "nbformat": 4,
 "nbformat_minor": 2
}

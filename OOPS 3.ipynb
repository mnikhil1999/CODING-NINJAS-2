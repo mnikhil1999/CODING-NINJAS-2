{
 "cells": [
  {
   "cell_type": "raw",
   "metadata": {},
   "source": [
    "#abstract classes\n",
    "#declared but have no implementation\n",
    "\n",
    "#abstract code\n",
    "\n"
   ]
  },
  {
   "cell_type": "code",
   "execution_count": 1,
   "metadata": {},
   "outputs": [
    {
     "ename": "TypeError",
     "evalue": "Can't instantiate abstract class A with abstract methods fun1, fun2",
     "output_type": "error",
     "traceback": [
      "\u001b[1;31m---------------------------------------------------------------------------\u001b[0m",
      "\u001b[1;31mTypeError\u001b[0m                                 Traceback (most recent call last)",
      "\u001b[1;32m<ipython-input-1-8b7dd82f0650>\u001b[0m in \u001b[0;36m<module>\u001b[1;34m()\u001b[0m\n\u001b[0;32m     11\u001b[0m         \u001b[1;32mpass\u001b[0m\u001b[1;33m\u001b[0m\u001b[0m\n\u001b[0;32m     12\u001b[0m \u001b[1;33m\u001b[0m\u001b[0m\n\u001b[1;32m---> 13\u001b[1;33m \u001b[0mo\u001b[0m \u001b[1;33m=\u001b[0m \u001b[0mA\u001b[0m\u001b[1;33m(\u001b[0m\u001b[1;33m)\u001b[0m\u001b[1;33m\u001b[0m\u001b[0m\n\u001b[0m\u001b[0;32m     14\u001b[0m \u001b[0mo\u001b[0m\u001b[1;33m.\u001b[0m\u001b[0mfun1\u001b[0m\u001b[1;33m(\u001b[0m\u001b[1;33m)\u001b[0m\u001b[1;33m\u001b[0m\u001b[0m\n",
      "\u001b[1;31mTypeError\u001b[0m: Can't instantiate abstract class A with abstract methods fun1, fun2"
     ]
    }
   ],
   "source": [
    "#output\n",
    "from abc import ABC,abstractmethod\n",
    "\n",
    "class A(ABC):\n",
    "\n",
    "    @abstractmethod\n",
    "    def fun1(self):\n",
    "        pass\n",
    "\n",
    "    @abstractmethod\n",
    "    def fun2(self):\n",
    "        pass\n",
    "\n",
    "o = A()\n",
    "o.fun1()"
   ]
  },
  {
   "cell_type": "code",
   "execution_count": 5,
   "metadata": {},
   "outputs": [
    {
     "ename": "TypeError",
     "evalue": "Can't instantiate abstract class B with abstract methods fun2",
     "output_type": "error",
     "traceback": [
      "\u001b[1;31m---------------------------------------------------------------------------\u001b[0m",
      "\u001b[1;31mTypeError\u001b[0m                                 Traceback (most recent call last)",
      "\u001b[1;32m<ipython-input-5-b36d78ab9d41>\u001b[0m in \u001b[0;36m<module>\u001b[1;34m()\u001b[0m\n\u001b[0;32m     17\u001b[0m     \u001b[1;32mdef\u001b[0m \u001b[0mfun1\u001b[0m\u001b[1;33m(\u001b[0m\u001b[0mself\u001b[0m\u001b[1;33m)\u001b[0m\u001b[1;33m:\u001b[0m\u001b[1;33m\u001b[0m\u001b[0m\n\u001b[0;32m     18\u001b[0m         \u001b[0mprint\u001b[0m\u001b[1;33m(\u001b[0m\u001b[1;34m\"function 1 called\"\u001b[0m\u001b[1;33m)\u001b[0m\u001b[1;33m\u001b[0m\u001b[0m\n\u001b[1;32m---> 19\u001b[1;33m \u001b[0mo\u001b[0m \u001b[1;33m=\u001b[0m \u001b[0mB\u001b[0m\u001b[1;33m(\u001b[0m\u001b[1;33m)\u001b[0m\u001b[1;33m\u001b[0m\u001b[0m\n\u001b[0m\u001b[0;32m     20\u001b[0m \u001b[0mo\u001b[0m\u001b[1;33m.\u001b[0m\u001b[0mfun1\u001b[0m\u001b[1;33m(\u001b[0m\u001b[1;33m)\u001b[0m\u001b[1;33m\u001b[0m\u001b[0m\n",
      "\u001b[1;31mTypeError\u001b[0m: Can't instantiate abstract class B with abstract methods fun2"
     ]
    }
   ],
   "source": [
    "#output\n",
    "\n",
    "from abc import ABC,abstractmethod\n",
    "\n",
    "class A(ABC):\n",
    "\n",
    "    @abstractmethod\n",
    "    def fun1(self):\n",
    "        pass\n",
    "\n",
    "    @abstractmethod\n",
    "    def fun2(self):\n",
    "        pass\n",
    "\n",
    "class B(A):\n",
    "\n",
    "    def fun1(self):\n",
    "        print(\"function 1 called\")\n",
    "o = B()\n",
    "o.fun1()"
   ]
  },
  {
   "cell_type": "code",
   "execution_count": 12,
   "metadata": {},
   "outputs": [
    {
     "name": "stdout",
     "output_type": "stream",
     "text": [
      "function 1 called\n"
     ]
    }
   ],
   "source": [
    "#output\n",
    "\n",
    "from abc import ABC,abstractmethod\n",
    "\n",
    "class A(ABC):\n",
    "\n",
    "    @abstractmethod\n",
    "    def fun1(self):\n",
    "        pass\n",
    "\n",
    "    @abstractmethod\n",
    "    def fun2(self):\n",
    "        pass\n",
    "\n",
    "class B(A):\n",
    "\n",
    "    def fun1(self):\n",
    "        print(\"function 1 called\")\n",
    "\n",
    "    def fun2(self):\n",
    "        print(\"function 2 called\")\n",
    "o = B()\n",
    "o.fun1()"
   ]
  },
  {
   "cell_type": "code",
   "execution_count": null,
   "metadata": {},
   "outputs": [],
   "source": [
    "#abstract classes -  continue\n",
    "\n",
    "#output\n",
    "from abc import ABC,abstractmethod\n",
    "\n",
    "class A(ABC):\n",
    "\n",
    "    @abstractmethod\n",
    "    def fun1(self):\n",
    "        pass\n",
    "\n",
    "    @abstractmethod\n",
    "    def fun2(self):\n",
    "        pass\n",
    "\n",
    "class B(A):\n",
    "\n",
    "    def fun1(self):\n",
    "        print(“function 1 called”)\n",
    "\n",
    "    def fun2(self):\n",
    "        print(“function 2 called”)\n",
    "o = B()\n",
    "o.fun1()\n",
    "\n"
   ]
  },
  {
   "cell_type": "code",
   "execution_count": 14,
   "metadata": {},
   "outputs": [
    {
     "name": "stdout",
     "output_type": "stream",
     "text": [
      "function of class A called\n"
     ]
    }
   ],
   "source": [
    "#output\n",
    "\n",
    "from abc import ABC,abstractmethod\n",
    "\n",
    "class A(ABC):\n",
    "\n",
    "    @abstractmethod\n",
    "    def fun1(self):\n",
    "        print(\"function of class A called\")\n",
    "\n",
    "    @abstractmethod\n",
    "    def fun2(self):\n",
    "        pass\n",
    "\n",
    "class B(A):\n",
    "    def fun1(self):\n",
    "        super().fun1()\n",
    "    def fun2(self):\n",
    "        print(\"function 2 called\")\n",
    "o = B()\n",
    "o.fun1()"
   ]
  },
  {
   "cell_type": "code",
   "execution_count": 15,
   "metadata": {},
   "outputs": [
    {
     "name": "stdout",
     "output_type": "stream",
     "text": [
      "Enter the numerator :3\n",
      "Enter the denominator :4\n",
      "0.75\n",
      "3\n",
      "4\n",
      "0.75\n",
      "exception may or may not be raised\n"
     ]
    }
   ],
   "source": [
    "#exception handling\n",
    "\n",
    "\n",
    "\n",
    "class ZeroDenominatorError(ZeroDivisionError):\n",
    "\tpass\n",
    "while True:\n",
    "\ttry:\n",
    "\t\tn = input('Enter the numerator :')\n",
    "\t\tnum = int(n)\n",
    "\t\tn = input('Enter the denominator :')\n",
    "\t\tdenom = int(n)\n",
    "\t\tif denom == 0:\n",
    "\t\t\traise ZeroDenominatorError('Denominator should not be zero')\n",
    "\t\tvalue = num/denom\n",
    "\texcept ValueError:\n",
    "\t\tprint(\"Numerator and Denominator should be integers\")\n",
    "\texcept ZeroDenominatorError:\n",
    "\t\tprint(\"ZeroDenominatorError is raised\")\n",
    "\texcept ZeroDivisionError:\n",
    "\t\tprint(\"Division by zero is not allowed\")\n",
    "\texcept :\n",
    "\t\tprint(\"some exception is raised\") \n",
    "\telse:\n",
    "\t\tprint(value)\n",
    "\t\tbreak\n",
    "\tfinally:\n",
    "\t\tprint(num)\n",
    "\t\tprint(denom)\n",
    "\t\tprint(value)\n",
    "\t\tprint('exception may or may not be raised')\n",
    "\n",
    "\t\n",
    "\t\n",
    "\n",
    "\t"
   ]
  },
  {
   "cell_type": "code",
   "execution_count": 17,
   "metadata": {},
   "outputs": [
    {
     "ename": "ZeroDivisionError",
     "evalue": "division by zero",
     "output_type": "error",
     "traceback": [
      "\u001b[1;31m---------------------------------------------------------------------------\u001b[0m",
      "\u001b[1;31mZeroDivisionError\u001b[0m                         Traceback (most recent call last)",
      "\u001b[1;32m<ipython-input-17-e78cbc03eff6>\u001b[0m in \u001b[0;36m<module>\u001b[1;34m()\u001b[0m\n\u001b[0;32m      4\u001b[0m     \u001b[0ma\u001b[0m \u001b[1;33m=\u001b[0m \u001b[1;36m10\u001b[0m\u001b[1;33m\u001b[0m\u001b[0m\n\u001b[0;32m      5\u001b[0m     \u001b[0mb\u001b[0m \u001b[1;33m=\u001b[0m \u001b[1;36m0\u001b[0m\u001b[1;33m\u001b[0m\u001b[0m\n\u001b[1;32m----> 6\u001b[1;33m     \u001b[0mc\u001b[0m \u001b[1;33m=\u001b[0m \u001b[0ma\u001b[0m\u001b[1;33m/\u001b[0m\u001b[0mb\u001b[0m\u001b[1;33m\u001b[0m\u001b[0m\n\u001b[0m\u001b[0;32m      7\u001b[0m     \u001b[0mprint\u001b[0m\u001b[1;33m(\u001b[0m\u001b[0mc\u001b[0m\u001b[1;33m)\u001b[0m\u001b[1;33m\u001b[0m\u001b[0m\n\u001b[0;32m      8\u001b[0m \u001b[1;32mexcept\u001b[0m \u001b[0mValueError\u001b[0m\u001b[1;33m:\u001b[0m\u001b[1;33m\u001b[0m\u001b[0m\n",
      "\u001b[1;31mZeroDivisionError\u001b[0m: division by zero"
     ]
    }
   ],
   "source": [
    "#output\n",
    "\n",
    "try:\n",
    "    a = 10\n",
    "    b = 0\n",
    "    c = a/b\n",
    "    print(c)\n",
    "except ValueError:\n",
    "    print(\"exception occured\")"
   ]
  },
  {
   "cell_type": "code",
   "execution_count": 20,
   "metadata": {},
   "outputs": [
    {
     "name": "stdout",
     "output_type": "stream",
     "text": [
      "Exception occured\n"
     ]
    }
   ],
   "source": [
    "#output\n",
    "try:\n",
    "    a = 10\n",
    "    b = 0\n",
    "    c = a/b\n",
    "    print(c)\n",
    "except ZeroDivisionError:\n",
    "    print(\"Exception occured\")"
   ]
  },
  {
   "cell_type": "code",
   "execution_count": 23,
   "metadata": {},
   "outputs": [
    {
     "name": "stdout",
     "output_type": "stream",
     "text": [
      "Exception Occured\n"
     ]
    }
   ],
   "source": [
    "#output\n",
    "\n",
    "try:\n",
    "    a = 10\n",
    "    b = 0\n",
    "    c = a/b\n",
    "    print(c)\n",
    "except :\n",
    "    print(\"Exception Occured\")"
   ]
  },
  {
   "cell_type": "code",
   "execution_count": 25,
   "metadata": {},
   "outputs": [
    {
     "name": "stdout",
     "output_type": "stream",
     "text": [
      "Enter the numerator :4\n",
      "Enter the denominator :0\n",
      "ZeroDenominatorError is raised\n",
      "4\n",
      "0\n",
      "1.3333333333333333\n",
      "exception may or may not be raised\n",
      "Enter the numerator :4\n",
      "Enter the denominator :3\n",
      "1.3333333333333333\n",
      "4\n",
      "3\n",
      "1.3333333333333333\n",
      "exception may or may not be raised\n"
     ]
    }
   ],
   "source": [
    "#handling multiple exceptions\n",
    "\n",
    "\n",
    "\n",
    "class ZeroDenominatorError(ZeroDivisionError):\n",
    "\tpass\n",
    "while True:\n",
    "\ttry:\n",
    "\t\tn = input('Enter the numerator :')\n",
    "\t\tnum = int(n)\n",
    "\t\tn = input('Enter the denominator :')\n",
    "\t\tdenom = int(n)\n",
    "\t\tif denom == 0:\n",
    "\t\t\traise ZeroDenominatorError('Denominator should not be zero')\n",
    "\t\tvalue = num/denom\n",
    "\texcept ValueError:\n",
    "\t\tprint(\"Numerator and Denominator should be integers\")\n",
    "\texcept ZeroDenominatorError:\n",
    "\t\tprint(\"ZeroDenominatorError is raised\")\n",
    "\texcept ZeroDivisionError:\n",
    "\t\tprint(\"Division by zero is not allowed\")\n",
    "\texcept :\n",
    "\t\tprint(\"some exception is raised\") \n",
    "\telse:\n",
    "\t\tprint(value)\n",
    "\t\tbreak\n",
    "\tfinally:\n",
    "\t\tprint(num)\n",
    "\t\tprint(denom)\n",
    "\t\tprint(value)\n",
    "\t\tprint('exception may or may not be raised')\n",
    "\n",
    "\t\n",
    "\t\n",
    "\n",
    "\t"
   ]
  },
  {
   "cell_type": "code",
   "execution_count": 26,
   "metadata": {},
   "outputs": [
    {
     "name": "stdout",
     "output_type": "stream",
     "text": [
      "Enter the numerator :4\n",
      "Enter the denominator :6\n",
      "0.6666666666666666\n",
      "4\n",
      "6\n",
      "0.6666666666666666\n",
      "exception may or may not be raised\n"
     ]
    }
   ],
   "source": [
    "#else and finally\n",
    "\n",
    "\n",
    "\n",
    "class ZeroDenominatorError(ZeroDivisionError):\n",
    "\tpass\n",
    "while True:\n",
    "\ttry:\n",
    "\t\tn = input('Enter the numerator :')\n",
    "\t\tnum = int(n)\n",
    "\t\tn = input('Enter the denominator :')\n",
    "\t\tdenom = int(n)\n",
    "\t\tif denom == 0:\n",
    "\t\t\traise ZeroDenominatorError('Denominator should not be zero')\n",
    "\t\tvalue = num/denom\n",
    "\texcept ValueError:\n",
    "\t\tprint(\"Numerator and Denominator should be integers\")\n",
    "\texcept ZeroDenominatorError:\n",
    "\t\tprint(\"ZeroDenominatorError is raised\")\n",
    "\texcept ZeroDivisionError:\n",
    "\t\tprint(\"Division by zero is not allowed\")\n",
    "\texcept :\n",
    "\t\tprint(\"some exception is raised\") \n",
    "\telse:\n",
    "\t\tprint(value)\n",
    "\t\tbreak\n",
    "\tfinally:\n",
    "\t\tprint(num)\n",
    "\t\tprint(denom)\n",
    "\t\tprint(value)\n",
    "\t\tprint('exception may or may not be raised')\n",
    "\n",
    "\t\n",
    "\t\n",
    "\n",
    "\t"
   ]
  },
  {
   "cell_type": "raw",
   "metadata": {},
   "source": [
    "#try\n",
    "#except\n",
    "#else\n",
    "#finally\n"
   ]
  }
 ],
 "metadata": {
  "kernelspec": {
   "display_name": "Python 3",
   "language": "python",
   "name": "python3"
  },
  "language_info": {
   "codemirror_mode": {
    "name": "ipython",
    "version": 3
   },
   "file_extension": ".py",
   "mimetype": "text/x-python",
   "name": "python",
   "nbconvert_exporter": "python",
   "pygments_lexer": "ipython3",
   "version": "3.6.4"
  }
 },
 "nbformat": 4,
 "nbformat_minor": 2
}

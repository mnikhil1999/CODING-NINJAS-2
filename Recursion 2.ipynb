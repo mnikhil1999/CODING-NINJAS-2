{
 "cells": [
  {
   "cell_type": "code",
   "execution_count": 5,
   "metadata": {},
   "outputs": [
    {
     "name": "stdout",
     "output_type": "stream",
     "text": [
      "axxdc\n",
      "adc\n"
     ]
    }
   ],
   "source": [
    "#remove x\n",
    "s = input()\n",
    "print(s.replace(\"x\", \"\"))"
   ]
  },
  {
   "cell_type": "code",
   "execution_count": 14,
   "metadata": {},
   "outputs": [
    {
     "name": "stdout",
     "output_type": "stream",
     "text": [
      "xfdsx\n",
      "fds\n"
     ]
    }
   ],
   "source": [
    "#remove x using recursion\n",
    "def remove(str):\n",
    "    if len(str) == 0:\n",
    "        return str\n",
    "    \n",
    "    if str[0] == 'x':\n",
    "        return remove(str[1:])\n",
    "    return str[0] + remove(str[1:])\n",
    "\n",
    "str = input()\n",
    "print(remove(str))"
   ]
  },
  {
   "cell_type": "code",
   "execution_count": 20,
   "metadata": {},
   "outputs": [
    {
     "name": "stdout",
     "output_type": "stream",
     "text": [
      "aavcddbb\n",
      "avcdb\n"
     ]
    }
   ],
   "source": [
    "#remove duplicate\n",
    "\n",
    "def remove_duplicate(str):\n",
    "    if len(str) == 1:\n",
    "        return str\n",
    "    \n",
    "    if str[0] == str[1]:\n",
    "        return remove_duplicate(str[1:])\n",
    "    return str[0] + remove_duplicate(str[1:])\n",
    "\n",
    "str = input()\n",
    "print(remove_duplicate(str))"
   ]
  },
  {
   "cell_type": "code",
   "execution_count": 2,
   "metadata": {},
   "outputs": [
    {
     "name": "stdout",
     "output_type": "stream",
     "text": [
      "abbaa\n"
     ]
    }
   ],
   "source": [
    "#replace a from b\n",
    "#recursion with strings\n",
    "#strings are immutable, so take care of attaching as well\n",
    "\n",
    "def replaceChar(s, a, b):\n",
    "    if len(s) == 0:\n",
    "        return s\n",
    "    \n",
    "    smallOutput = replaceChar(s[1:], a, b)\n",
    "    if s[0] == a:\n",
    "        return b + smallOutput\n",
    "    else:\n",
    "        return s[0] + smallOutput\n",
    "    \n",
    "    \n",
    "print(replaceChar(\"abcaa\", 'c', 'b'))"
   ]
  },
  {
   "cell_type": "code",
   "execution_count": 8,
   "metadata": {},
   "outputs": [
    {
     "name": "stdout",
     "output_type": "stream",
     "text": [
      "spqpoi3.14\n"
     ]
    }
   ],
   "source": [
    "#replace 'pi' with 3.14\n",
    "\n",
    "def replacePi(s):\n",
    "    if len(s) == 0 or len(s) == 1:\n",
    "        return s\n",
    "    \n",
    "    if s[0] == 'p' and s[1] == 'i':\n",
    "        smallOutput = replacePi(s[2:])\n",
    "        return \"3.14\" + smallOutput\n",
    "    \n",
    "    else:\n",
    "        smallOutput = replacePi(s[1:])\n",
    "        return s[0] + smallOutput\n",
    "    \n",
    "print(replacePi(\"spqpoipi\"))\n"
   ]
  },
  {
   "cell_type": "code",
   "execution_count": 11,
   "metadata": {},
   "outputs": [
    {
     "name": "stdout",
     "output_type": "stream",
     "text": [
      "7\n"
     ]
    }
   ],
   "source": [
    "#binary search\n",
    "\n",
    "def binarySearch(a, x, si, ei):\n",
    "    if si > ei:\n",
    "        return -1\n",
    "    \n",
    "    mid = (si + ei)//2\n",
    "    \n",
    "    if a[mid] == x:\n",
    "        return mid\n",
    "    \n",
    "    elif a[mid] > x:\n",
    "        return binarySearch(a, x, si, mid-1)\n",
    "    else:\n",
    "        return binarySearch(a, x, mid+1, ei)\n",
    "    \n",
    "print(binarySearch([1,3,4,5,6,7,8,9], 9, 0, 7))"
   ]
  },
  {
   "cell_type": "code",
   "execution_count": 2,
   "metadata": {},
   "outputs": [
    {
     "name": "stdout",
     "output_type": "stream",
     "text": [
      "6\n",
      "2 6 8 5 4 3\n",
      "2 3 4 5 6 8\n"
     ]
    }
   ],
   "source": [
    "#merge sort\n",
    "\n",
    "def merge(a1, a2, a):\n",
    "    i = 0\n",
    "    j = 0\n",
    "    k = 0\n",
    "    while i < len(a1) and j < len(a2):\n",
    "        if (a1[i] < a2[j]):\n",
    "            a[k] = a1[i]\n",
    "            k = k+1\n",
    "            i = i+1\n",
    "        else:\n",
    "            a[k] = a2[j]\n",
    "            k = k+1\n",
    "            j = j+1\n",
    "            \n",
    "    while i < len(a1):\n",
    "        a[k] = a1[i]\n",
    "        k = k+1\n",
    "        i = i+1\n",
    "        \n",
    "    while j < len(a2):\n",
    "        a[k] = a2[j]\n",
    "        k = k+1\n",
    "        j = j+1\n",
    "        \n",
    "\n",
    "def merge_sort(a):\n",
    "    if len(a) == 0 or len(a) == 1:\n",
    "        return\n",
    "    mid = len(a)//2\n",
    "    a1 = a[0:mid]\n",
    "    a2 = a[mid:]\n",
    "    \n",
    "    merge_sort(a1)\n",
    "    merge_sort(a2)\n",
    "    merge(a1, a2, a)\n",
    "    \n",
    "n = int(input())\n",
    "a = [int(x) for x in input().split()]\n",
    "merge_sort(a)\n",
    "print(*a)\n",
    "    \n"
   ]
  },
  {
   "cell_type": "code",
   "execution_count": 3,
   "metadata": {},
   "outputs": [
    {
     "name": "stdout",
     "output_type": "stream",
     "text": [
      "6\n",
      "2 6 8 5 4 3\n",
      "2 3 4 5 6 8\n"
     ]
    }
   ],
   "source": [
    "#quick sort\n",
    "\n",
    "def partition(a, si, ei):\n",
    "    pivot = a[si]\n",
    "    \n",
    "    #find number of elements smaller than pivot\n",
    "    c = 0\n",
    "    for i in range(si, ei+1):\n",
    "        if a[i] < pivot:\n",
    "            c = c+1\n",
    "    a[si + c], a[si] = a[si], a[si+c]\n",
    "    pivot_index = si + c\n",
    "    \n",
    "    i = si\n",
    "    j = ei\n",
    "    while i<j:\n",
    "        if a[i] < pivot:\n",
    "            i = i+1\n",
    "        elif a[j] >= pivot:\n",
    "            j = j-1\n",
    "        else:\n",
    "            a[i], a[j] = a[j], a[i]\n",
    "            i = i+1\n",
    "            j = j-1\n",
    "    return pivot_index\n",
    "\n",
    "def quick_sort(a, si, ei):\n",
    "    if si >= ei:\n",
    "        return\n",
    "    \n",
    "    pivot_index = partition(a, si, ei)\n",
    "    quick_sort(a, si, pivot_index-1)\n",
    "    quick_sort(a, pivot_index+1, ei)\n",
    "    \n",
    "n = int(input())\n",
    "a = [int(x) for x in input().split()]\n",
    "quick_sort(a, 0, len(a)-1)\n",
    "print(*a)\n"
   ]
  },
  {
   "cell_type": "code",
   "execution_count": 5,
   "metadata": {},
   "outputs": [
    {
     "name": "stdout",
     "output_type": "stream",
     "text": [
      "2\n",
      "move 1st disk from s to t\n",
      "move 2 disk from s to u\n",
      "move 1st disk from t to u\n"
     ]
    }
   ],
   "source": [
    "#tower of hanoi\n",
    "\n",
    "def tower_hanoi(n, a, b, c):\n",
    "    if n==1:\n",
    "        print(\"move 1st disk from\", a, \"to\", c)\n",
    "        return\n",
    "    tower_hanoi(n-1, a, c, b) #moving from a to b using c\n",
    "    print(\"move\", n, \"disk from\", a, \"to\", c)\n",
    "    tower_hanoi(n-1, b, a, c) #moving from b to c using a\n",
    "\n",
    "n = int(input())\n",
    "tower_hanoi(n, \"s\",\"t\", \"u\")"
   ]
  },
  {
   "cell_type": "code",
   "execution_count": 4,
   "metadata": {},
   "outputs": [
    {
     "name": "stdout",
     "output_type": "stream",
     "text": [
      "2\n",
      "a b\n",
      "a c\n",
      "b c\n"
     ]
    }
   ],
   "source": [
    "#tower of hanoi\n",
    "\n",
    "def tower_hanoi(n, a, b, c):\n",
    "    if n==0:\n",
    "        return\n",
    "    tower_hanoi(n-1, a, c, b) #moving from a to b using c\n",
    "    print(a, c)\n",
    "    tower_hanoi(n-1, b, a, c) #moving from b to c using a\n",
    "\n",
    "n = int(input())\n",
    "tower_hanoi(n,\"a\",\"b\", \"c\")"
   ]
  }
 ],
 "metadata": {
  "kernelspec": {
   "display_name": "Python 3",
   "language": "python",
   "name": "python3"
  },
  "language_info": {
   "codemirror_mode": {
    "name": "ipython",
    "version": 3
   },
   "file_extension": ".py",
   "mimetype": "text/x-python",
   "name": "python",
   "nbconvert_exporter": "python",
   "pygments_lexer": "ipython3",
   "version": "3.6.4"
  }
 },
 "nbformat": 4,
 "nbformat_minor": 2
}
